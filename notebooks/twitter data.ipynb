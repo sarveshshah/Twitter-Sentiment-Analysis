{
 "cells": [
  {
   "cell_type": "code",
   "execution_count": 57,
   "metadata": {},
   "outputs": [],
   "source": [
    "#!pip install GetOldTweets3\n",
    "#!pip install tweepy\n",
    "\n",
    "import tweepy\n",
    "import GetOldTweets3 as got \n",
    "import pandas as pd\n",
    "import numpy as np\n",
    "import json\n",
    "import re\n",
    "import matplotlib.pyplot as plt\n",
    "import seaborn as sns\n",
    "import pprint"
   ]
  },
  {
   "cell_type": "code",
   "execution_count": null,
   "metadata": {},
   "outputs": [],
   "source": [
    "tweetCriteria = got.manager.TweetCriteria().setQuerySearch('(@SEPTA_SOCIAL)')\\\n",
    "                                           .setSince(\"2020-08-01\")\\\n",
    "                                           .setUntil(\"2020-08-14\")\\\n",
    "                                           .setMaxTweets(100)\n",
    "\n",
    "for tweet,i in zip(got.manager.TweetManager.getTweets(tweetCriteria),range(100)):\n",
    "#     print('\\nTweet {}: '.format(i),tweet.text, 'Mentions:'+ tweet.mentions)\n",
    "    print('\\nTweet {}:'.format(i),\n",
    "          '\\nID:'+tweet.id,\n",
    "          ' username: '+tweet.username,\n",
    "          ' to: '+str(tweet.to),\n",
    "          ' text: '+tweet.text,\n",
    "          ' date: '+ str(tweet.date),\n",
    "          ' retweets: '+str(tweet.retweets),\n",
    "          ' favorites: '+str(tweet.favorites),\n",
    "          ' mentions:' +tweet.mentions,\n",
    "          ' hashtags: '+tweet.hashtags,\n",
    "          ' geo: '+tweet.geo\n",
    "         )"
   ]
  },
  {
   "cell_type": "code",
   "execution_count": 47,
   "metadata": {},
   "outputs": [
    {
     "name": "stdout",
     "output_type": "stream",
     "text": [
      "dict_keys(['api_key', 'api_secret_key', 'bearer_token', 'access_token', 'access_token_secret'])\n"
     ]
    }
   ],
   "source": [
    "with open(r'C:\\Users\\asvh\\Desktop\\tapikey.txt') as f:\n",
    "    data = json.load(f)\n",
    "    \n",
    "print(data.keys())\n",
    "\n",
    "auth = tweepy.AppAuthHandler(data['api_key'], data['api_secret_key'])\n",
    "api = tweepy.API(auth)\n"
   ]
  },
  {
   "cell_type": "code",
   "execution_count": 51,
   "metadata": {},
   "outputs": [],
   "source": [
    "name = 'SEPTA_SOCIAL'\n",
    "# tweet_id = '1270923526690664448'\n",
    "replies=[]\n",
    "for tweet in tweepy.Cursor(api.search,q='to:'+name, result_type='recent', timeout=999999).items(1000):\n",
    "    if hasattr(tweet, 'in_reply_to_status_id_str'):\n",
    "#         if (tweet.in_reply_to_status_id_str==tweet_id):\n",
    "        replies.append(tweet)"
   ]
  },
  {
   "cell_type": "code",
   "execution_count": 80,
   "metadata": {},
   "outputs": [
    {
     "name": "stdout",
     "output_type": "stream",
     "text": [
      "{'contributors': None,\n",
      " 'coordinates': None,\n",
      " 'created_at': 'Fri Aug 14 14:18:33 +0000 2020',\n",
      " 'entities': {'hashtags': [],\n",
      "              'symbols': [],\n",
      "              'urls': [],\n",
      "              'user_mentions': [{'id': 430186590,\n",
      "                                 'id_str': '430186590',\n",
      "                                 'indices': [0, 13],\n",
      "                                 'name': 'SEPTA_SOCIAL 😷',\n",
      "                                 'screen_name': 'SEPTA_SOCIAL'}]},\n",
      " 'favorite_count': 0,\n",
      " 'favorited': False,\n",
      " 'geo': None,\n",
      " 'id': 1294277232920276992,\n",
      " 'id_str': '1294277232920276992',\n",
      " 'in_reply_to_screen_name': 'SEPTA_SOCIAL',\n",
      " 'in_reply_to_status_id': 1294274232340357120,\n",
      " 'in_reply_to_status_id_str': '1294274232340357120',\n",
      " 'in_reply_to_user_id': 430186590,\n",
      " 'in_reply_to_user_id_str': '430186590',\n",
      " 'is_quote_status': False,\n",
      " 'lang': 'en',\n",
      " 'metadata': {'iso_language_code': 'en', 'result_type': 'recent'},\n",
      " 'place': None,\n",
      " 'retweet_count': 0,\n",
      " 'retweeted': False,\n",
      " 'source': '<a href=\"http://twitter.com/download/iphone\" '\n",
      "           'rel=\"nofollow\">Twitter for iPhone</a>',\n",
      " 'text': '@SEPTA_SOCIAL In all honesty, your app isn’t always that accurate '\n",
      "         'anyway.....',\n",
      " 'truncated': False,\n",
      " 'user': {'contributors_enabled': False,\n",
      "          'created_at': 'Fri Jun 03 00:34:24 +0000 2011',\n",
      "          'default_profile': False,\n",
      "          'default_profile_image': False,\n",
      "          'description': 'KC2UQB',\n",
      "          'entities': {'description': {'urls': []},\n",
      "                       'url': {'urls': [{'display_url': 'cellspeak.wordpress.com',\n",
      "                                         'expanded_url': 'http://cellspeak.wordpress.com',\n",
      "                                         'indices': [0, 23],\n",
      "                                         'url': 'https://t.co/CNybYAnkjc'}]}},\n",
      "          'favourites_count': 67,\n",
      "          'follow_request_sent': None,\n",
      "          'followers_count': 81,\n",
      "          'following': None,\n",
      "          'friends_count': 720,\n",
      "          'geo_enabled': True,\n",
      "          'has_extended_profile': True,\n",
      "          'id': 309981197,\n",
      "          'id_str': '309981197',\n",
      "          'is_translation_enabled': False,\n",
      "          'is_translator': False,\n",
      "          'lang': None,\n",
      "          'listed_count': 2,\n",
      "          'location': 'Phila, PA (South Philly)',\n",
      "          'name': 'Amy',\n",
      "          'notifications': None,\n",
      "          'profile_background_color': '000000',\n",
      "          'profile_background_image_url': 'http://abs.twimg.com/images/themes/theme1/bg.png',\n",
      "          'profile_background_image_url_https': 'https://abs.twimg.com/images/themes/theme1/bg.png',\n",
      "          'profile_background_tile': False,\n",
      "          'profile_image_url': 'http://pbs.twimg.com/profile_images/978414505670664192/xqHw3R_X_normal.jpg',\n",
      "          'profile_image_url_https': 'https://pbs.twimg.com/profile_images/978414505670664192/xqHw3R_X_normal.jpg',\n",
      "          'profile_link_color': '1B95E0',\n",
      "          'profile_sidebar_border_color': '000000',\n",
      "          'profile_sidebar_fill_color': '000000',\n",
      "          'profile_text_color': '000000',\n",
      "          'profile_use_background_image': False,\n",
      "          'protected': False,\n",
      "          'screen_name': 'tireiron123',\n",
      "          'statuses_count': 353,\n",
      "          'time_zone': None,\n",
      "          'translator_type': 'none',\n",
      "          'url': 'https://t.co/CNybYAnkjc',\n",
      "          'utc_offset': None,\n",
      "          'verified': False}}\n"
     ]
    }
   ],
   "source": [
    "# print(replies[0])\n",
    "pprint.pprint(replies[1]._json)\n",
    "\n",
    "# pprint.pprint(replies[0]._json)"
   ]
  }
 ],
 "metadata": {
  "kernelspec": {
   "display_name": "Python 3",
   "language": "python",
   "name": "python3"
  },
  "language_info": {
   "codemirror_mode": {
    "name": "ipython",
    "version": 3
   },
   "file_extension": ".py",
   "mimetype": "text/x-python",
   "name": "python",
   "nbconvert_exporter": "python",
   "pygments_lexer": "ipython3",
   "version": "3.7.7"
  }
 },
 "nbformat": 4,
 "nbformat_minor": 4
}
